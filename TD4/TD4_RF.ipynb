{
 "cells": [
  {
   "cell_type": "markdown",
   "metadata": {},
   "source": [
    "(https://stackabuse.com/text-classification-with-python-and-scikit-learn/)"
   ]
  },
  {
   "cell_type": "code",
   "execution_count": null,
   "metadata": {},
   "outputs": [],
   "source": [
    "%reset"
   ]
  },
  {
   "cell_type": "markdown",
   "metadata": {},
   "source": [
    "# Imports"
   ]
  },
  {
   "cell_type": "code",
   "execution_count": 2,
   "metadata": {},
   "outputs": [],
   "source": [
    "import pandas as pd\n",
    "from sklearn.model_selection import train_test_split\n",
    "import re\n",
    "import string\n",
    "pd.options.mode.chained_assignment = None  # default='warn'\n",
    "from nltk.corpus import stopwords\n",
    "import matplotlib.pyplot as plt\n",
    "import nltk\n",
    "import numpy as np\n",
    "import seaborn as sns\n",
    "from time import time\n",
    "from sklearn.feature_extraction.text import CountVectorizer\n",
    "from sklearn.feature_extraction.text import TfidfTransformer\n",
    "from sklearn.model_selection import train_test_split\n",
    "from sklearn.ensemble import RandomForestClassifier\n",
    "from sklearn.metrics import classification_report, confusion_matrix, accuracy_score\n",
    "from sklearn.tree import plot_tree\n",
    "from nltk import WordNetLemmatizer\n",
    "from nltk.corpus import stopwords"
   ]
  },
  {
   "cell_type": "markdown",
   "metadata": {},
   "source": [
    "# Data recovery"
   ]
  },
  {
   "cell_type": "code",
   "execution_count": 3,
   "metadata": {},
   "outputs": [],
   "source": [
    "dataset = pd.read_csv(\"H:/Documents/Cours/ING3/NLP/TD4/simpsons_dataset.csv\")\n",
    "dataset = dataset.dropna().reset_index(drop = True)"
   ]
  },
  {
   "cell_type": "code",
   "execution_count": 4,
   "metadata": {},
   "outputs": [
    {
     "data": {
      "text/html": [
       "<div>\n",
       "<style scoped>\n",
       "    .dataframe tbody tr th:only-of-type {\n",
       "        vertical-align: middle;\n",
       "    }\n",
       "\n",
       "    .dataframe tbody tr th {\n",
       "        vertical-align: top;\n",
       "    }\n",
       "\n",
       "    .dataframe thead th {\n",
       "        text-align: right;\n",
       "    }\n",
       "</style>\n",
       "<table border=\"1\" class=\"dataframe\">\n",
       "  <thead>\n",
       "    <tr style=\"text-align: right;\">\n",
       "      <th></th>\n",
       "      <th>raw_character_text</th>\n",
       "      <th>spoken_words</th>\n",
       "    </tr>\n",
       "  </thead>\n",
       "  <tbody>\n",
       "    <tr>\n",
       "      <th>0</th>\n",
       "      <td>Miss Hoover</td>\n",
       "      <td>No, actually, it was a little of both. Sometim...</td>\n",
       "    </tr>\n",
       "    <tr>\n",
       "      <th>1</th>\n",
       "      <td>Lisa Simpson</td>\n",
       "      <td>Where's Mr. Bergstrom?</td>\n",
       "    </tr>\n",
       "    <tr>\n",
       "      <th>2</th>\n",
       "      <td>Miss Hoover</td>\n",
       "      <td>I don't know. Although I'd sure like to talk t...</td>\n",
       "    </tr>\n",
       "    <tr>\n",
       "      <th>3</th>\n",
       "      <td>Lisa Simpson</td>\n",
       "      <td>That life is worth living.</td>\n",
       "    </tr>\n",
       "    <tr>\n",
       "      <th>4</th>\n",
       "      <td>Edna Krabappel-Flanders</td>\n",
       "      <td>The polls will be open from now until the end ...</td>\n",
       "    </tr>\n",
       "  </tbody>\n",
       "</table>\n",
       "</div>"
      ],
      "text/plain": [
       "        raw_character_text                                       spoken_words\n",
       "0              Miss Hoover  No, actually, it was a little of both. Sometim...\n",
       "1             Lisa Simpson                             Where's Mr. Bergstrom?\n",
       "2              Miss Hoover  I don't know. Although I'd sure like to talk t...\n",
       "3             Lisa Simpson                         That life is worth living.\n",
       "4  Edna Krabappel-Flanders  The polls will be open from now until the end ..."
      ]
     },
     "execution_count": 4,
     "metadata": {},
     "output_type": "execute_result"
    }
   ],
   "source": [
    "dataset.head()"
   ]
  },
  {
   "cell_type": "markdown",
   "metadata": {},
   "source": [
    "# Selection of the characters with the most lines\n",
    "(more than 1000)"
   ]
  },
  {
   "cell_type": "code",
   "execution_count": 5,
   "metadata": {},
   "outputs": [
    {
     "data": {
      "text/html": [
       "<div>\n",
       "<style scoped>\n",
       "    .dataframe tbody tr th:only-of-type {\n",
       "        vertical-align: middle;\n",
       "    }\n",
       "\n",
       "    .dataframe tbody tr th {\n",
       "        vertical-align: top;\n",
       "    }\n",
       "\n",
       "    .dataframe thead th {\n",
       "        text-align: right;\n",
       "    }\n",
       "</style>\n",
       "<table border=\"1\" class=\"dataframe\">\n",
       "  <thead>\n",
       "    <tr style=\"text-align: right;\">\n",
       "      <th></th>\n",
       "      <th>raw_character_text</th>\n",
       "      <th>spoken_words</th>\n",
       "    </tr>\n",
       "  </thead>\n",
       "  <tbody>\n",
       "    <tr>\n",
       "      <th>0</th>\n",
       "      <td>Lisa Simpson</td>\n",
       "      <td>Where's Mr. Bergstrom?</td>\n",
       "    </tr>\n",
       "    <tr>\n",
       "      <th>1</th>\n",
       "      <td>Lisa Simpson</td>\n",
       "      <td>That life is worth living.</td>\n",
       "    </tr>\n",
       "    <tr>\n",
       "      <th>2</th>\n",
       "      <td>Bart Simpson</td>\n",
       "      <td>Victory party under the slide!</td>\n",
       "    </tr>\n",
       "    <tr>\n",
       "      <th>3</th>\n",
       "      <td>Lisa Simpson</td>\n",
       "      <td>Mr. Bergstrom! Mr. Bergstrom!</td>\n",
       "    </tr>\n",
       "    <tr>\n",
       "      <th>4</th>\n",
       "      <td>Lisa Simpson</td>\n",
       "      <td>Do you know where I could find him?</td>\n",
       "    </tr>\n",
       "  </tbody>\n",
       "</table>\n",
       "</div>"
      ],
      "text/plain": [
       "  raw_character_text                         spoken_words\n",
       "0       Lisa Simpson               Where's Mr. Bergstrom?\n",
       "1       Lisa Simpson           That life is worth living.\n",
       "2       Bart Simpson       Victory party under the slide!\n",
       "3       Lisa Simpson        Mr. Bergstrom! Mr. Bergstrom!\n",
       "4       Lisa Simpson  Do you know where I could find him?"
      ]
     },
     "execution_count": 5,
     "metadata": {},
     "output_type": "execute_result"
    }
   ],
   "source": [
    "group = dataset.groupby('raw_character_text').count().reset_index()\n",
    "perso_principaux = group[group[\"spoken_words\"]>1000].reset_index()\n",
    "perso_list = perso_principaux.raw_character_text.tolist()\n",
    "dataset = dataset.drop(dataset[~dataset.raw_character_text.isin(perso_list)].index).reset_index(drop = True)\n",
    "dataset.head(5)"
   ]
  },
  {
   "cell_type": "code",
   "execution_count": 6,
   "metadata": {
    "scrolled": false
   },
   "outputs": [
    {
     "data": {
      "image/png": "[encoded data removed]",
      "text/plain": [
       "<Figure size 576x432 with 1 Axes>"
      ]
     },
     "metadata": {
      "needs_background": "light"
     },
     "output_type": "display_data"
    }
   ],
   "source": [
    "fig = plt.figure(figsize=(8,6))\n",
    "dataset.groupby('raw_character_text').spoken_words.count().plot.bar(ylim=0)\n",
    "plt.show()"
   ]
  },
  {
   "cell_type": "code",
   "execution_count": 7,
   "metadata": {},
   "outputs": [],
   "source": [
    "stopwords = stopwords.words(\"english\")\n",
    "lemmatizer = WordNetLemmatizer()\n",
    "\n",
    "def processSentence(sentence, remove_stopwords):\n",
    "    ww = sentence.split()\n",
    "    #ww = nltk.word_tokenize(sentence)\n",
    "    if remove_stopwords == 1:\n",
    "        ww = [x for x in ww if x not in stopwords]\n",
    "    ww = [x for x in ww if x !=\"\"]\n",
    "    ww = [lemmatizer.lemmatize(x) for x in ww]\n",
    "    if len(ww)>2:\n",
    "        return \" \".join(ww)\n",
    "    else:\n",
    "        return np.nan\n",
    "\n",
    "def preprocessing(dataset, remove_stopwords = 1):\n",
    "    datatemp = dataset.copy()\n",
    "    ### Removes non-alphabetic characters:\n",
    "    datatemp.spoken_words = [re.sub(\"[^A-Za-z']+\", ' ', str(row)).lower() for row in datatemp['spoken_words']]\n",
    "    datatemp.spoken_words= [re.sub(\"[/']\", '', str(row)).lower() for row in datatemp.spoken_words]\n",
    "    \n",
    "    cleaned = [processSentence(x, remove_stopwords) for x in datatemp.spoken_words.tolist()]\n",
    "\n",
    "    datasetCleaned = datatemp.copy()\n",
    "    datasetCleaned.spoken_words = cleaned\n",
    "    datasetCleaned = datasetCleaned.dropna()\n",
    "    datasetCleaned = datasetCleaned[~datasetCleaned.spoken_words.duplicated()]\n",
    "    #datatempCleaned.columns = [\"raw_character_text\", \"spoken_words\"]\n",
    "\n",
    "\n",
    "    wordsDf = pd.DataFrame(cleaned, columns=[\"spoken_words\"]).dropna().drop_duplicates()\n",
    "    print(\"Words count after processing: \"+ str(len(wordsDf)))\n",
    "    return datasetCleaned"
   ]
  },
  {
   "cell_type": "code",
   "execution_count": 8,
   "metadata": {
    "scrolled": true
   },
   "outputs": [
    {
     "name": "stdout",
     "output_type": "stream",
     "text": [
      "Words count after processing: 61361\n"
     ]
    }
   ],
   "source": [
    "datasetCleaned_without_sw = preprocessing(dataset, 1)"
   ]
  },
  {
   "cell_type": "code",
   "execution_count": 9,
   "metadata": {},
   "outputs": [
    {
     "name": "stdout",
     "output_type": "stream",
     "text": [
      "Words count after processing: 71649\n"
     ]
    }
   ],
   "source": [
    "datasetCleaned_with_sw = preprocessing(dataset, 0)"
   ]
  },
  {
   "cell_type": "code",
   "execution_count": 10,
   "metadata": {},
   "outputs": [
    {
     "name": "stdout",
     "output_type": "stream",
     "text": [
      "Calculation time : 1.01 s\n"
     ]
    }
   ],
   "source": [
    "#Process 1\n",
    "t0 = time()\n",
    "vectorizer = CountVectorizer(max_df = 0.7, max_features = 5000)\n",
    "X = vectorizer.fit_transform(datasetCleaned_without_sw[\"spoken_words\"]).toarray()\n",
    "print(\"Calculation time :\", round(time()-t0, 3),\"s\")"
   ]
  },
  {
   "cell_type": "code",
   "execution_count": 11,
   "metadata": {},
   "outputs": [
    {
     "name": "stdout",
     "output_type": "stream",
     "text": [
      "Calculation time : 1.432 s\n"
     ]
    }
   ],
   "source": [
    "#Process 2\n",
    "t0 = time()\n",
    "vectorizer = CountVectorizer(max_df = 0.7, max_features = 5000)\n",
    "X1 = vectorizer.fit_transform(datasetCleaned_with_sw[\"spoken_words\"]).toarray()\n",
    "print(\"Calculation time :\", round(time()-t0, 3),\"s\")"
   ]
  },
  {
   "cell_type": "code",
   "execution_count": 14,
   "metadata": {
    "scrolled": true
   },
   "outputs": [
    {
     "name": "stdout",
     "output_type": "stream",
     "text": [
      "Calculation time : 14.379 s\n"
     ]
    }
   ],
   "source": [
    "#Process 1\n",
    "t0 = time()\n",
    "tfidfconverter = TfidfTransformer()\n",
    "X = tfidfconverter.fit_transform(X).toarray()\n",
    "print(\"Calculation time :\", round(time()-t0, 3),\"s\")"
   ]
  },
  {
   "cell_type": "code",
   "execution_count": 16,
   "metadata": {
    "scrolled": true
   },
   "outputs": [
    {
     "name": "stdout",
     "output_type": "stream",
     "text": [
      "Calculation time : 14.598 s\n"
     ]
    }
   ],
   "source": [
    "#Process 2\n",
    "t0 = time()\n",
    "tfidfconverter = TfidfTransformer()\n",
    "X1 = tfidfconverter.fit_transform(X1).toarray()\n",
    "print(\"Calculation time :\", round(time()-t0, 3),\"s\")"
   ]
  },
  {
   "cell_type": "code",
   "execution_count": 23,
   "metadata": {},
   "outputs": [],
   "source": [
    "#Process 1\n",
    "y = datasetCleaned_without_sw.raw_character_text\n",
    "X_train, X_test, y_train, y_test = train_test_split(X, y, test_size=0.2, random_state=0)"
   ]
  },
  {
   "cell_type": "code",
   "execution_count": 24,
   "metadata": {},
   "outputs": [],
   "source": [
    "#Process 2\n",
    "y1 = datasetCleaned_with_sw.raw_character_text\n",
    "X_train1, X_test1, y_train1, y_test1 = train_test_split(X1, y1, test_size=0.2, random_state=0)"
   ]
  },
  {
   "cell_type": "code",
   "execution_count": 25,
   "metadata": {
    "scrolled": false
   },
   "outputs": [
    {
     "name": "stdout",
     "output_type": "stream",
     "text": [
      "Calculation time : 89.667 s\n"
     ]
    }
   ],
   "source": [
    "#Process 1\n",
    "t0 = time()\n",
    "classifier = RandomForestClassifier(n_estimators=10, random_state=0, n_jobs=-1)\n",
    "classifier.fit(X_train, y_train)\n",
    "print(\"Calculation time :\", round(time()-t0, 3),\"s\")"
   ]
  },
  {
   "cell_type": "code",
   "execution_count": 26,
   "metadata": {
    "scrolled": false
   },
   "outputs": [
    {
     "name": "stdout",
     "output_type": "stream",
     "text": [
      "Calculation time : 47.718 s\n"
     ]
    }
   ],
   "source": [
    "#Process 2\n",
    "t0 = time()\n",
    "classifier1 = RandomForestClassifier(n_estimators=10, random_state=0, n_jobs=-1)\n",
    "classifier1.fit(X_train1, y_train1)\n",
    "print(\"Calculation time :\", round(time()-t0, 3),\"s\")"
   ]
  },
  {
   "cell_type": "code",
   "execution_count": 27,
   "metadata": {},
   "outputs": [],
   "source": [
    "#Process 1\n",
    "y_pred = classifier.predict(X_test)"
   ]
  },
  {
   "cell_type": "code",
   "execution_count": 29,
   "metadata": {},
   "outputs": [],
   "source": [
    "#Process 2\n",
    "y_pred1 = classifier1.predict(X_test1)"
   ]
  },
  {
   "cell_type": "code",
   "execution_count": 30,
   "metadata": {
    "scrolled": false
   },
   "outputs": [
    {
     "name": "stdout",
     "output_type": "stream",
     "text": [
      "[[ 449   21   17    8  955   12    4  198  126    5   10    6    3   22]\n",
      " [  25  116    3    3  257    3    2   16   22    1    1    2    1    3]\n",
      " [  41    6   28    0  180    1    3   13   14    0    4    0    1    2]\n",
      " [  29    5    2    6  197    1    0    6   14    1    4    1    1    0]\n",
      " [ 370   55   21   14 2909    8    6  213  302    5   24   15    4   16]\n",
      " [  38    4    1    1  185    5    1   20   20    0    5    1    0    1]\n",
      " [  22    2    0    0  123    1    2   13   19    0    4    0    0    0]\n",
      " [ 252   18    8    5  691    2    2  388  126    8    4    6    2   24]\n",
      " [ 170   18    7    6 1015   10    3  143  512    4   10    6    3   14]\n",
      " [  38    1    2    1  112    0    0   41   23    5    0    1    0    1]\n",
      " [  40    4    1    7  294    3    5   10   42    2   33    2    0    4]\n",
      " [  25    7    1    2  196    1    3   16   52    1    2   33    1    2]\n",
      " [  26    4    0    0   80    0    0   12    6    2    0    0   12    0]\n",
      " [  48    8    4    0  195    2    1   35   45    2    0    2    0   37]]\n",
      "                     precision    recall  f1-score   support\n",
      "\n",
      "       Bart Simpson       0.29      0.24      0.26      1836\n",
      "C. Montgomery Burns       0.43      0.25      0.32       455\n",
      "       Chief Wiggum       0.29      0.10      0.14       293\n",
      "     Grampa Simpson       0.11      0.02      0.04       267\n",
      "      Homer Simpson       0.39      0.73      0.51      3962\n",
      "   Krusty the Clown       0.10      0.02      0.03       282\n",
      "      Lenny Leonard       0.06      0.01      0.02       186\n",
      "       Lisa Simpson       0.35      0.25      0.29      1536\n",
      "      Marge Simpson       0.39      0.27      0.32      1921\n",
      "Milhouse Van Houten       0.14      0.02      0.04       225\n",
      "        Moe Szyslak       0.33      0.07      0.12       447\n",
      "       Ned Flanders       0.44      0.10      0.16       342\n",
      "       Nelson Muntz       0.43      0.08      0.14       142\n",
      "    Seymour Skinner       0.29      0.10      0.15       379\n",
      "\n",
      "           accuracy                           0.37     12273\n",
      "          macro avg       0.29      0.16      0.18     12273\n",
      "       weighted avg       0.34      0.37      0.32     12273\n",
      "\n",
      "0.369510307178359\n"
     ]
    }
   ],
   "source": [
    "print(confusion_matrix(y_test,y_pred))\n",
    "print(classification_report(y_test,y_pred))\n",
    "print(accuracy_score(y_test, y_pred))"
   ]
  },
  {
   "cell_type": "code",
   "execution_count": 31,
   "metadata": {
    "scrolled": false
   },
   "outputs": [
    {
     "name": "stdout",
     "output_type": "stream",
     "text": [
      "[[ 549   11    7    8 1147    7    4  236  117    7    8    3    5    8]\n",
      " [  45   84    2    1  299    0    0   19   52    0    0    2    0    2]\n",
      " [  43    7   29    3  223    1    1   13   17    0    5    0    3    1]\n",
      " [  44    7    2    4  227    1    0   22   21    0    3    0    1    0]\n",
      " [ 526   35   16   18 3399    6    4  236  346   10   24    9    8   17]\n",
      " [  37    2    1    1  207    4    0   15   22    0    1    0    0    0]\n",
      " [  35    3    0    2  140    0    6    8   20    1    4    2    2    1]\n",
      " [ 298   10    4    7  907    4    0  361  159    3    4    4    0   13]\n",
      " [ 242   22   12    3 1240    2    6  159  574    4    3    5    2    8]\n",
      " [  55    3    2    0  145    0    1   36   15    7    0    0    1    1]\n",
      " [  60    2    3    1  357    0    6   18   52    0   31    0    0    0]\n",
      " [  40    4    3    2  230    0    0   18   59    2    2    9    0    3]\n",
      " [  28    2    2    1  108    1    0   20   10    1    0    0   15    0]\n",
      " [  55   11    1    0  251    0    0   46   55    2    1    0    0   27]]\n",
      "                     precision    recall  f1-score   support\n",
      "\n",
      "       Bart Simpson       0.27      0.26      0.26      2117\n",
      "C. Montgomery Burns       0.41      0.17      0.24       506\n",
      "       Chief Wiggum       0.35      0.08      0.13       346\n",
      "     Grampa Simpson       0.08      0.01      0.02       332\n",
      "      Homer Simpson       0.38      0.73      0.50      4654\n",
      "   Krusty the Clown       0.15      0.01      0.03       290\n",
      "      Lenny Leonard       0.21      0.03      0.05       224\n",
      "       Lisa Simpson       0.30      0.20      0.24      1774\n",
      "      Marge Simpson       0.38      0.25      0.30      2282\n",
      "Milhouse Van Houten       0.19      0.03      0.05       266\n",
      "        Moe Szyslak       0.36      0.06      0.10       530\n",
      "       Ned Flanders       0.26      0.02      0.04       372\n",
      "       Nelson Muntz       0.41      0.08      0.13       188\n",
      "    Seymour Skinner       0.33      0.06      0.10       449\n",
      "\n",
      "           accuracy                           0.36     14330\n",
      "          macro avg       0.29      0.14      0.16     14330\n",
      "       weighted avg       0.33      0.36      0.30     14330\n",
      "\n",
      "0.35582693649685976\n"
     ]
    }
   ],
   "source": [
    "print(confusion_matrix(y_test1,y_pred1))\n",
    "print(classification_report(y_test1,y_pred1))\n",
    "print(accuracy_score(y_test1, y_pred1))"
   ]
  },
  {
   "cell_type": "code",
   "execution_count": 32,
   "metadata": {},
   "outputs": [
    {
     "data": {
      "text/plain": [
       "array([0.36670577, 0.35453271])"
      ]
     },
     "execution_count": 32,
     "metadata": {},
     "output_type": "execute_result"
    }
   ],
   "source": [
    "from sklearn.model_selection import cross_val_score\n",
    "scores = cross_val_score(classifier, X, y, cv=2)\n",
    "scores"
   ]
  },
  {
   "cell_type": "code",
   "execution_count": 35,
   "metadata": {},
   "outputs": [
    {
     "name": "stdout",
     "output_type": "stream",
     "text": [
      "Après le word processing retirant les stop words :\n",
      "Accuracy: 0.36 (+/- 0.01)\n"
     ]
    }
   ],
   "source": [
    "print(\"Après le word processing retirant les stop words :\")\n",
    "print(\"Accuracy: %0.2f (+/- %0.2f)\" % (scores.mean(), scores.std() * 2))"
   ]
  },
  {
   "cell_type": "code",
   "execution_count": 34,
   "metadata": {},
   "outputs": [
    {
     "data": {
      "text/plain": [
       "array([0.35592274, 0.34770107])"
      ]
     },
     "execution_count": 34,
     "metadata": {},
     "output_type": "execute_result"
    }
   ],
   "source": [
    "scores1 = cross_val_score(classifier1, X1, y1, cv=2)\n",
    "scores1"
   ]
  },
  {
   "cell_type": "code",
   "execution_count": 36,
   "metadata": {},
   "outputs": [
    {
     "name": "stdout",
     "output_type": "stream",
     "text": [
      "Après le word processing ignorant les stop words :\n",
      "Accuracy: 0.35 (+/- 0.01)\n"
     ]
    }
   ],
   "source": [
    "print(\"Après le word processing ignorant les stop words :\")\n",
    "print(\"Accuracy: %0.2f (+/- %0.2f)\" % (scores1.mean(), scores1.std() * 2))"
   ]
  }
 ],
 "metadata": {
  "kernelspec": {
   "display_name": "Python 3",
   "language": "python",
   "name": "python3"
  },
  "language_info": {
   "codemirror_mode": {
    "name": "ipython",
    "version": 3
   },
   "file_extension": ".py",
   "mimetype": "text/x-python",
   "name": "python",
   "nbconvert_exporter": "python",
   "pygments_lexer": "ipython3",
   "version": "3.7.4"
  }
 },
 "nbformat": 4,
 "nbformat_minor": 2
}
