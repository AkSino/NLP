{
 "cells": [
  {
   "cell_type": "markdown",
   "metadata": {},
   "source": [
    "# Imports"
   ]
  },
  {
   "cell_type": "code",
   "execution_count": 1,
   "metadata": {},
   "outputs": [],
   "source": [
    "import requests\n",
    "from bs4 import BeautifulSoup\n",
    "import torch\n",
    "from transformers import BertForQuestionAnswering\n",
    "from transformers import BertTokenizer\n",
    "import pandas as pd\n",
    "from selenium import webdriver\n",
    "from selenium.webdriver.common.keys import Keys"
   ]
  },
  {
   "cell_type": "markdown",
   "metadata": {},
   "source": [
    "# Web scraping"
   ]
  },
  {
   "cell_type": "markdown",
   "metadata": {},
   "source": [
    "[Premier site de questions](https://www.onlineinterviewquestions.com/nlp-interview-questions/)"
   ]
  },
  {
   "cell_type": "code",
   "execution_count": 2,
   "metadata": {},
   "outputs": [],
   "source": [
    "q_list = []\n",
    "a_list = []\n",
    "nb_questions = 27\n",
    "driver = webdriver.Chrome()\n",
    "driver.get(\"https://www.onlineinterviewquestions.com/nlp-interview-questions/\")\n",
    "for i in range(1, nb_questions+1):\n",
    "    id = \"question\" + str(i)\n",
    "    q = driver.find_element_by_id(id).find_element_by_tag_name(\"h3\").text\n",
    "    a = driver.find_element_by_id(id).find_element_by_tag_name(\"p\").text\n",
    "    if a.replace(\" \", \"\") != \"\":\n",
    "        q_list.append(q)\n",
    "        a_list.append(a)\n",
    "driver.close()"
   ]
  },
  {
   "cell_type": "markdown",
   "metadata": {},
   "source": [
    "[Deuxième site de questions](https://www.i2tutorials.com/nlp-interview-question-answers/nlp-interview-questions-part-1/)"
   ]
  },
  {
   "cell_type": "code",
   "execution_count": 3,
   "metadata": {
    "scrolled": true
   },
   "outputs": [],
   "source": [
    "nb_pages = 7\n",
    "q2_list = []\n",
    "a2_list = []\n",
    "for i in range (1, nb_pages+1):\n",
    "    url = 'https://www.i2tutorials.com/nlp-interview-question-answers/nlp-interview-questions-part-' + str(i) + '/'\n",
    "    page = requests.get(url)\n",
    "    html = BeautifulSoup(page.text, 'html.parser')\n",
    "    qas = html.findAll('h3')[:5]\n",
    "    for qa in qas:\n",
    "        q2_list.append(qa.text[3:])\n",
    "        a = \"\"\n",
    "        p = qa.find_next_sibling()\n",
    "        while p is not None and p.name != \"h3\":\n",
    "            a+= \" \" + p.text\n",
    "            p = p.find_next_sibling()\n",
    "        a2_list.append(a)\n",
    "a2_list = [a[9:].replace(u'\\xa0', u'') for a in a2_list]\n",
    "q2_list = [q.replace(u'\\xa0', u'') for q in q2_list]"
   ]
  },
  {
   "cell_type": "code",
   "execution_count": 4,
   "metadata": {},
   "outputs": [],
   "source": [
    "q_tot = q_list + q2_list\n",
    "a_tot = a_list + a2_list"
   ]
  },
  {
   "cell_type": "code",
   "execution_count": 5,
   "metadata": {},
   "outputs": [],
   "source": [
    "dict_qa = {\n",
    "    \"question\":q_tot,\n",
    "    \"answer\":a_tot\n",
    "}"
   ]
  },
  {
   "cell_type": "code",
   "execution_count": 6,
   "metadata": {},
   "outputs": [],
   "source": [
    "df_qa = pd.DataFrame(dict_qa)"
   ]
  },
  {
   "cell_type": "code",
   "execution_count": 7,
   "metadata": {},
   "outputs": [
    {
     "data": {
      "text/plain": [
       "question    0\n",
       "answer      0\n",
       "dtype: int64"
      ]
     },
     "execution_count": 7,
     "metadata": {},
     "output_type": "execute_result"
    }
   ],
   "source": [
    "df_qa.isna().sum()"
   ]
  },
  {
   "cell_type": "code",
   "execution_count": 8,
   "metadata": {},
   "outputs": [
    {
     "data": {
      "text/html": [
       "<div>\n",
       "<style scoped>\n",
       "    .dataframe tbody tr th:only-of-type {\n",
       "        vertical-align: middle;\n",
       "    }\n",
       "\n",
       "    .dataframe tbody tr th {\n",
       "        vertical-align: top;\n",
       "    }\n",
       "\n",
       "    .dataframe thead th {\n",
       "        text-align: right;\n",
       "    }\n",
       "</style>\n",
       "<table border=\"1\" class=\"dataframe\">\n",
       "  <thead>\n",
       "    <tr style=\"text-align: right;\">\n",
       "      <th></th>\n",
       "      <th>question</th>\n",
       "      <th>answer</th>\n",
       "    </tr>\n",
       "  </thead>\n",
       "  <tbody>\n",
       "    <tr>\n",
       "      <th>20</th>\n",
       "      <td>What Is Nlp?</td>\n",
       "      <td>Natural Language Processing or NLP is an autom...</td>\n",
       "    </tr>\n",
       "    <tr>\n",
       "      <th>39</th>\n",
       "      <td>What is NLG (Natural language Generation) ?</td>\n",
       "      <td>It’s about generating new text from understand...</td>\n",
       "    </tr>\n",
       "    <tr>\n",
       "      <th>26</th>\n",
       "      <td>What Is Pragmatic Analysis In Nlp?</td>\n",
       "      <td>Pragmatic Analysis: It deals with outside word...</td>\n",
       "    </tr>\n",
       "  </tbody>\n",
       "</table>\n",
       "</div>"
      ],
      "text/plain": [
       "                                       question  \\\n",
       "20                                 What Is Nlp?   \n",
       "39  What is NLG (Natural language Generation) ?   \n",
       "26           What Is Pragmatic Analysis In Nlp?   \n",
       "\n",
       "                                               answer  \n",
       "20  Natural Language Processing or NLP is an autom...  \n",
       "39  It’s about generating new text from understand...  \n",
       "26  Pragmatic Analysis: It deals with outside word...  "
      ]
     },
     "execution_count": 8,
     "metadata": {},
     "output_type": "execute_result"
    }
   ],
   "source": [
    "df_qa.sample(3)"
   ]
  },
  {
   "cell_type": "code",
   "execution_count": 10,
   "metadata": {},
   "outputs": [],
   "source": [
    "df_qa.to_excel('qa.xlsx', index=False)"
   ]
  },
  {
   "cell_type": "code",
   "execution_count": 9,
   "metadata": {},
   "outputs": [],
   "source": [
    "df_qa.to_csv(path_or_buf='qa.csv', index=False)"
   ]
  }
 ],
 "metadata": {
  "kernelspec": {
   "display_name": "Python 3",
   "language": "python",
   "name": "python3"
  },
  "language_info": {
   "codemirror_mode": {
    "name": "ipython",
    "version": 3
   },
   "file_extension": ".py",
   "mimetype": "text/x-python",
   "name": "python",
   "nbconvert_exporter": "python",
   "pygments_lexer": "ipython3",
   "version": "3.7.4"
  }
 },
 "nbformat": 4,
 "nbformat_minor": 2
}
